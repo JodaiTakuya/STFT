{
 "cells": [
  {
   "cell_type": "code",
   "execution_count": 3,
   "metadata": {
    "collapsed": false
   },
   "outputs": [
    {
     "data": {
      "image/png": "[encoded data removed]",
      "text/plain": [
       "<matplotlib.figure.Figure at 0x114a7cac8>"
      ]
     },
     "metadata": {},
     "output_type": "display_data"
    }
   ],
   "source": [
    "import numpy as np\n",
    "import scipy as sp\n",
    "import scipy.fftpack as spfft\n",
    "\n",
    "def hanning(winlen):\n",
    "    if winlen%2 == 0:\n",
    "        winlen = winlen + 1\n",
    "        hwin = 0.5*(1-np.cos(2*np.pi*np.arange(winlen))/(winlen-1))\n",
    "        hwin = hwin[0:winlen-1]\n",
    "    else:\n",
    "        hwin = 0.5*(1-np.cos(2*np.pi*np.arange(winlen))/(winlen-1))\n",
    "    \n",
    "    return hwin\n",
    "\n",
    "def stft(x, fftlen, winlen, shift):\n",
    "    start = 0\n",
    "    end = len(x)\n",
    "\n",
    "    nFrame = int((end-winlen)/shift + 1)\n",
    "\n",
    "    Xst = np.empty([fftlen, nFrame], dtype=np.complex)\n",
    "\n",
    "    #win = np.hanning(winlen) #window function\n",
    "    win = hanning(winlen)\n",
    "\n",
    "    for frame in range(0, nFrame, 1):\n",
    "        temp = win * x[frame*shift:frame*shift+winlen].T\n",
    "        Xst[:, frame] = spfft.fft(temp, fftlen)\n",
    "    return Xst\n",
    "\n",
    "def istft(Xst, shift):\n",
    "    [fftlen, nFrame] = Xst.shape\n",
    "    out_len = (nFrame-1) * shift + fftlen\n",
    "\n",
    "    x = np.zeros(out_len)\n",
    "    \n",
    "    for frame in range(0, nFrame, 1):\n",
    "        x_tmp = spfft.ifft(Xst[:, frame])\n",
    "        \n",
    "        sp = frame * shift\n",
    "        ep = sp + fftlen\n",
    "               \n",
    "        x[sp:ep] = x[sp:ep] + x_tmp.real\n",
    "        \n",
    "    return x\n",
    "\n",
    "\n",
    "if __name__ == '__main__':\n",
    "    import wavio\n",
    "    import matplotlib.pyplot as plt\n",
    "    \n",
    "    wav = wavio.read(\"sine_-06_05_00080.wav\")\n",
    "    fs = wav.rate\n",
    "    x_in = wav.data\n",
    "\n",
    "    fftlen = 1024\n",
    "    winlen = 512\n",
    "    shift  = 256\n",
    "\n",
    "    Xst_in = stft(x_in, fftlen, winlen, shift)\n",
    "    \n",
    "    amp_Xst_in = abs(Xst_in)\n",
    "    \n",
    "    x_out = istft(Xst_in, shift)\n",
    "\n",
    "    #plt.plot(x_out)\n",
    "    plt.plot(amp_Xst_in[:,0])\n",
    "    plt.show()"
   ]
  },
  {
   "cell_type": "code",
   "execution_count": null,
   "metadata": {
    "collapsed": true
   },
   "outputs": [],
   "source": []
  }
 ],
 "metadata": {
  "anaconda-cloud": {},
  "kernelspec": {
   "display_name": "Python [conda root]",
   "language": "python",
   "name": "conda-root-py"
  },
  "language_info": {
   "codemirror_mode": {
    "name": "ipython",
    "version": 3
   },
   "file_extension": ".py",
   "mimetype": "text/x-python",
   "name": "python",
   "nbconvert_exporter": "python",
   "pygments_lexer": "ipython3",
   "version": "3.5.2"
  }
 },
 "nbformat": 4,
 "nbformat_minor": 1
}
